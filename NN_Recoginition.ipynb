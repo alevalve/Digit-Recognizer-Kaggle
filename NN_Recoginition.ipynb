{
 "cells": [
  {
   "cell_type": "code",
   "execution_count": 154,
   "metadata": {},
   "outputs": [],
   "source": [
    "## Librerias \n",
    "import os\n",
    "import numpy as np\n",
    "import tensorflow as tf\n",
    "import matplotlib.pyplot as plt\n",
    "import pandas as pd\n",
    "import csv\n",
    "import random\n",
    "import kaggle"
   ]
  },
  {
   "cell_type": "code",
   "execution_count": 155,
   "metadata": {},
   "outputs": [],
   "source": [
    "!chmod 600 /Users/alexandervalverde/.kaggle/kaggle.json"
   ]
  },
  {
   "cell_type": "code",
   "execution_count": 156,
   "metadata": {},
   "outputs": [],
   "source": [
    "## Import data sets\n",
    "train = pd.read_csv(\"/Users/alexandervalverde/Documents/Kaggle Competitions/Digit Recognizer/Datasets/train.csv\")\n",
    "test = pd.read_csv(\"/Users/alexandervalverde/Documents/Kaggle Competitions/Digit Recognizer/Datasets/test.csv\")"
   ]
  },
  {
   "cell_type": "code",
   "execution_count": 157,
   "metadata": {},
   "outputs": [
    {
     "data": {
      "text/plain": [
       "((42000, 784), (42000,), (28000, 784))"
      ]
     },
     "execution_count": 157,
     "metadata": {},
     "output_type": "execute_result"
    }
   ],
   "source": [
    "## Select columns\n",
    "train_y = train['label'].astype('float32')\n",
    "train_x = train.drop(['label'],axis = 1).astype('int32')\n",
    "test_x = test.astype('float32')\n",
    "train_x.shape, train_y.shape, test_x.shape"
   ]
  },
  {
   "cell_type": "code",
   "execution_count": 158,
   "metadata": {},
   "outputs": [
    {
     "data": {
      "text/plain": [
       "((42000, 28, 28, 1), (28000, 28, 28, 1))"
      ]
     },
     "execution_count": 158,
     "metadata": {},
     "output_type": "execute_result"
    }
   ],
   "source": [
    "## Center data\n",
    "train_x = train_x.values.reshape(-1,28,28,1)\n",
    "train_x = train_x / 255.0\n",
    "test_x = test_x.values.reshape(-1,28,28,1)\n",
    "test_x = test_x / 255.0\n",
    "train_x.shape, test_x.shape"
   ]
  },
  {
   "cell_type": "code",
   "execution_count": 159,
   "metadata": {},
   "outputs": [
    {
     "data": {
      "text/plain": [
       "(42000, 10)"
      ]
     },
     "execution_count": 159,
     "metadata": {},
     "output_type": "execute_result"
    }
   ],
   "source": [
    "#One Hot Encoding\n",
    "train_y = tf.keras.utils.to_categorical(train_y,10)\n",
    "train_y.shape"
   ]
  },
  {
   "cell_type": "code",
   "execution_count": 162,
   "metadata": {},
   "outputs": [
    {
     "name": "stdout",
     "output_type": "stream",
     "text": [
      "Model: \"sequential_17\"\n",
      "_________________________________________________________________\n",
      " Layer (type)                Output Shape              Param #   \n",
      "=================================================================\n",
      " conv2d_24 (Conv2D)          (None, 26, 26, 32)        320       \n",
      "                                                                 \n",
      " conv2d_25 (Conv2D)          (None, 24, 24, 32)        9248      \n",
      "                                                                 \n",
      " max_pooling2d_12 (MaxPoolin  (None, 12, 12, 32)       0         \n",
      " g2D)                                                            \n",
      "                                                                 \n",
      " conv2d_26 (Conv2D)          (None, 12, 12, 64)        18496     \n",
      "                                                                 \n",
      " conv2d_27 (Conv2D)          (None, 12, 12, 64)        36928     \n",
      "                                                                 \n",
      " max_pooling2d_13 (MaxPoolin  (None, 6, 6, 64)         0         \n",
      " g2D)                                                            \n",
      "                                                                 \n",
      " dropout_11 (Dropout)        (None, 6, 6, 64)          0         \n",
      "                                                                 \n",
      " conv2d_28 (Conv2D)          (None, 6, 6, 64)          36928     \n",
      "                                                                 \n",
      " conv2d_29 (Conv2D)          (None, 6, 6, 64)          36928     \n",
      "                                                                 \n",
      " max_pooling2d_14 (MaxPoolin  (None, 3, 3, 64)         0         \n",
      " g2D)                                                            \n",
      "                                                                 \n",
      " dropout_12 (Dropout)        (None, 3, 3, 64)          0         \n",
      "                                                                 \n",
      " flatten_18 (Flatten)        (None, 576)               0         \n",
      "                                                                 \n",
      " dense_74 (Dense)            (None, 256)               147712    \n",
      "                                                                 \n",
      " dense_75 (Dense)            (None, 256)               65792     \n",
      "                                                                 \n",
      " dropout_13 (Dropout)        (None, 256)               0         \n",
      "                                                                 \n",
      " dense_76 (Dense)            (None, 10)                2570      \n",
      "                                                                 \n",
      "=================================================================\n",
      "Total params: 354,922\n",
      "Trainable params: 354,922\n",
      "Non-trainable params: 0\n",
      "_________________________________________________________________\n"
     ]
    }
   ],
   "source": [
    "#Defining the model\n",
    "model = tf.keras.models.Sequential([\n",
    "  tf.keras.layers.Conv2D(32,(3,3),activation = 'selu', input_shape=(28,28,1)),\n",
    "  tf.keras.layers.Conv2D(32,(3,3),activation = 'selu'),\n",
    "  tf.keras.layers.MaxPooling2D(2,2),\n",
    "  tf.keras.layers.Conv2D(64,(3,3),activation = 'selu',padding = 'Same'),\n",
    "  tf.keras.layers.Conv2D(64,(3,3),activation = 'selu',padding = 'Same'),\n",
    "  tf.keras.layers.MaxPooling2D(pool_size = (2,2), strides = (2,2)),\n",
    "  tf.keras.layers.Dropout(0.25),\n",
    "  tf.keras.layers.Conv2D(64,(3,3),activation = 'selu',padding = 'Same'),\n",
    "  tf.keras.layers.Conv2D(64,(3,3),activation = 'selu',padding = 'Same'),\n",
    "  tf.keras.layers.MaxPooling2D(pool_size = (2,2), strides = (2,2)),\n",
    "  tf.keras.layers.Dropout(0.25),\n",
    "  tf.keras.layers.Flatten(),\n",
    "  tf.keras.layers.Dense(256, activation='selu'),\n",
    "  #tf.keras.layers.Dropout(0.50),\n",
    "  tf.keras.layers.Dense(256, activation='selu'),\n",
    "  tf.keras.layers.Dropout(0.50),\n",
    "  tf.keras.layers.Dense(10, activation='softmax')\n",
    "])\n",
    "model.summary()"
   ]
  },
  {
   "cell_type": "code",
   "execution_count": 163,
   "metadata": {},
   "outputs": [
    {
     "name": "stdout",
     "output_type": "stream",
     "text": [
      "Epoch 1/20\n",
      "840/840 [==============================] - 29s 35ms/step - loss: 0.3056 - accuracy: 0.9120\n",
      "Epoch 2/20\n",
      "840/840 [==============================] - 30s 36ms/step - loss: 0.1507 - accuracy: 0.9622\n",
      "Epoch 3/20\n",
      "840/840 [==============================] - 31s 37ms/step - loss: 0.1092 - accuracy: 0.9713\n",
      "Epoch 4/20\n",
      "840/840 [==============================] - 32s 38ms/step - loss: 0.1005 - accuracy: 0.9742\n",
      "Epoch 5/20\n",
      "840/840 [==============================] - 31s 37ms/step - loss: 0.0990 - accuracy: 0.9748\n",
      "Epoch 6/20\n",
      "840/840 [==============================] - 31s 37ms/step - loss: 0.0817 - accuracy: 0.9789\n",
      "Epoch 7/20\n",
      "840/840 [==============================] - 31s 37ms/step - loss: 0.0790 - accuracy: 0.9806\n",
      "Epoch 8/20\n",
      "840/840 [==============================] - 31s 37ms/step - loss: 0.0841 - accuracy: 0.9791\n",
      "Epoch 9/20\n",
      "840/840 [==============================] - 32s 38ms/step - loss: 0.0749 - accuracy: 0.9819\n",
      "Epoch 10/20\n",
      "840/840 [==============================] - 31s 37ms/step - loss: 0.0820 - accuracy: 0.9805\n",
      "Epoch 11/20\n",
      "840/840 [==============================] - 31s 37ms/step - loss: 0.0693 - accuracy: 0.9832\n",
      "Epoch 12/20\n",
      "840/840 [==============================] - 31s 37ms/step - loss: 0.0706 - accuracy: 0.9840\n",
      "Epoch 13/20\n",
      "840/840 [==============================] - 31s 37ms/step - loss: 0.0744 - accuracy: 0.9830\n",
      "Epoch 14/20\n",
      "840/840 [==============================] - 31s 37ms/step - loss: 0.0704 - accuracy: 0.9839\n",
      "Epoch 15/20\n",
      "840/840 [==============================] - 32s 38ms/step - loss: 0.0752 - accuracy: 0.9836\n",
      "Epoch 16/20\n",
      "840/840 [==============================] - 32s 38ms/step - loss: 0.0633 - accuracy: 0.9855\n",
      "Epoch 17/20\n",
      "840/840 [==============================] - 32s 38ms/step - loss: 0.0738 - accuracy: 0.9838\n",
      "Epoch 18/20\n",
      "840/840 [==============================] - 32s 38ms/step - loss: 0.0595 - accuracy: 0.9861\n",
      "Epoch 19/20\n",
      "840/840 [==============================] - 32s 38ms/step - loss: 0.0631 - accuracy: 0.9861\n",
      "Epoch 20/20\n",
      "840/840 [==============================] - 34s 40ms/step - loss: 0.0719 - accuracy: 0.9847\n"
     ]
    },
    {
     "data": {
      "text/plain": [
       "<keras.callbacks.History at 0x15e73c4c0>"
      ]
     },
     "execution_count": 163,
     "metadata": {},
     "output_type": "execute_result"
    }
   ],
   "source": [
    "#Compiling and model training with batch size = 50, epochs = 20, and optimizer = adam\n",
    "Optimizer = tf.keras.optimizers.Adam(\n",
    "            learning_rate=0.001, \n",
    "            beta_1=0.9, \n",
    "            beta_2=0.999, \n",
    "            epsilon=1e-07,\n",
    "            name='Adam'\n",
    ")\n",
    "model.compile(optimizer=Optimizer, loss='categorical_crossentropy', metrics=['accuracy'])\n",
    "model.fit(train_x, train_y, batch_size = 50, epochs = 20)"
   ]
  },
  {
   "cell_type": "code",
   "execution_count": 164,
   "metadata": {},
   "outputs": [
    {
     "name": "stdout",
     "output_type": "stream",
     "text": [
      "Saving the model as mnist.h5\n"
     ]
    }
   ],
   "source": [
    "## Save model\n",
    "model.save('mnist.h5')\n",
    "print(\"Saving the model as mnist.h5\")"
   ]
  },
  {
   "cell_type": "code",
   "execution_count": 165,
   "metadata": {},
   "outputs": [
    {
     "name": "stdout",
     "output_type": "stream",
     "text": [
      "875/875 [==============================] - 7s 8ms/step\n"
     ]
    }
   ],
   "source": [
    "## Predict\n",
    "results = model.predict(test_x)\n",
    "\n",
    "# Select the index with the maximum probability\n",
    "results = np.argmax(results,axis = 1)\n",
    "\n",
    "results = pd.Series(results,name=\"Label\")"
   ]
  },
  {
   "cell_type": "code",
   "execution_count": 166,
   "metadata": {},
   "outputs": [],
   "source": [
    "## Submission\n",
    "\n",
    "submission = pd.concat([pd.Series(range(1,28001), name = 'ImageId'), results], axis=1)\n",
    "\n",
    "submission.to_csv(\"Digital_Recognition.csv\",  index=False)"
   ]
  },
  {
   "cell_type": "code",
   "execution_count": 149,
   "metadata": {},
   "outputs": [
    {
     "name": "stdout",
     "output_type": "stream",
     "text": [
      "100%|█████████████████████████████████████████| 290k/290k [00:00<00:00, 341kB/s]\n",
      "Successfully submitted to Digit Recognizer"
     ]
    }
   ],
   "source": [
    "#Submitting the results on Kaggle\n",
    "!kaggle competitions submit -c digit-recognizer -f Digital_Recognizer.csv -m \"Proyect\""
   ]
  }
 ],
 "metadata": {
  "kernelspec": {
   "display_name": "Python 3.10.7 64-bit",
   "language": "python",
   "name": "python3"
  },
  "language_info": {
   "codemirror_mode": {
    "name": "ipython",
    "version": 3
   },
   "file_extension": ".py",
   "mimetype": "text/x-python",
   "name": "python",
   "nbconvert_exporter": "python",
   "pygments_lexer": "ipython3",
   "version": "3.10.7"
  },
  "orig_nbformat": 4,
  "vscode": {
   "interpreter": {
    "hash": "aee8b7b246df8f9039afb4144a1f6fd8d2ca17a180786b69acc140d282b71a49"
   }
  }
 },
 "nbformat": 4,
 "nbformat_minor": 2
}
